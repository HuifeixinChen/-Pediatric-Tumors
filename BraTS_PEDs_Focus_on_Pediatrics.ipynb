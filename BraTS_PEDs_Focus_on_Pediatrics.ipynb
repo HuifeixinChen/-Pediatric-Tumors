{
  "nbformat": 4,
  "nbformat_minor": 0,
  "metadata": {
    "colab": {
      "provenance": [],
      "machine_shape": "hm",
      "gpuType": "A100",
      "mount_file_id": "1w7YbM_hQhWnfLsRnKndM0qOkobcV22Xw",
      "authorship_tag": "ABX9TyOBgsgRUmM3kXxyNDdnzSo8",
      "include_colab_link": true
    },
    "kernelspec": {
      "name": "python3",
      "display_name": "Python 3"
    },
    "language_info": {
      "name": "python"
    },
    "accelerator": "GPU"
  },
  "cells": [
    {
      "cell_type": "markdown",
      "metadata": {
        "id": "view-in-github",
        "colab_type": "text"
      },
      "source": [
        "<a href=\"https://colab.research.google.com/github/HuifeixinChen/-Pediatric-Tumors/blob/main/BraTS_PEDs_Focus_on_Pediatrics.ipynb\" target=\"_parent\"><img src=\"https://colab.research.google.com/assets/colab-badge.svg\" alt=\"Open In Colab\"/></a>"
      ]
    },
    {
      "cell_type": "code",
      "source": [
        "from google.colab import drive\n",
        "drive.mount('/content/drive')\n",
        "data_dir = \"/content/drive/MyDrive/BraTS-PEDs2024_Training_small_set\"\n"
      ],
      "metadata": {
        "colab": {
          "base_uri": "https://localhost:8080/"
        },
        "id": "q5EmXtsgF43_",
        "outputId": "e2fb77ea-f849-4016-f7f8-97d5e4d77b4f"
      },
      "execution_count": null,
      "outputs": [
        {
          "output_type": "stream",
          "name": "stdout",
          "text": [
            "Drive already mounted at /content/drive; to attempt to forcibly remount, call drive.mount(\"/content/drive\", force_remount=True).\n"
          ]
        }
      ]
    },
    {
      "cell_type": "code",
      "source": [
        "import os\n",
        "\n",
        "data_dir = \"/content/drive/MyDrive/BraTS-PEDs2024_Training_small_set\"\n",
        "\n",
        "# 查看路径下文件夹（应该有患者文件夹列表）\n",
        "print(os.listdir(data_dir))"
      ],
      "metadata": {
        "colab": {
          "base_uri": "https://localhost:8080/"
        },
        "id": "9Jeo1S7DHKNh",
        "outputId": "ff22271a-9093-49fc-c96f-3619e8d9f2ed"
      },
      "execution_count": null,
      "outputs": [
        {
          "output_type": "stream",
          "name": "stdout",
          "text": [
            "['BraTS-PED-00158-000', 'BraTS-PED-00157-000', 'BraTS-PED-00159-000', 'BraTS-PED-00152-000', 'BraTS-PED-00160-000', 'BraTS-PED-00154-000', 'BraTS-PED-00151-000', 'BraTS-PED-00155-000', 'BraTS-PED-00153-000', 'BraTS-PED-00156-000', 'BraTS-PED-00145-000', 'BraTS-PED-00148-000', 'BraTS-PED-00149-000', 'BraTS-PED-00147-000', 'BraTS-PED-00144-000', 'BraTS-PED-00142-000', 'BraTS-PED-00150-000', 'BraTS-PED-00146-000', 'BraTS-PED-00143-000', 'BraTS-PED-00141-000', 'BraTS-PED-00139-000', 'BraTS-PED-00140-000', 'BraTS-PED-00131-000', 'BraTS-PED-00132-000', 'BraTS-PED-00121-000', 'BraTS-PED-00138-000', 'BraTS-PED-00130-000', 'BraTS-PED-00135-000', 'BraTS-PED-00123-000', 'BraTS-PED-00137-000', 'BraTS-PED-00124-000', 'BraTS-PED-00136-000', 'BraTS-PED-00134-000', 'BraTS-PED-00125-000', 'BraTS-PED-00133-000', 'BraTS-PED-00126-000', 'BraTS-PED-00128-000', 'BraTS-PED-00129-000', 'BraTS-PED-00127-000', 'BraTS-PED-00122-000', 'BraTS-PED-00114-000', 'BraTS-PED-00116-000', 'BraTS-PED-00117-000', 'BraTS-PED-00119-000', 'BraTS-PED-00110-000', 'BraTS-PED-00113-000', 'BraTS-PED-00115-000', 'BraTS-PED-00120-000', 'BraTS-PED-00112-000', 'BraTS-PED-00118-000', 'BraTS-PED-00100-000', 'BraTS-PED-00104-000', 'BraTS-PED-00108-000', 'BraTS-PED-00103-000', 'BraTS-PED-00102-000', 'BraTS-PED-00105-000', 'BraTS-PED-00109-000', 'BraTS-PED-00101-000', 'BraTS-PED-00107-000', 'BraTS-PED-00106-000', 'BraTS-PED-00092-000', 'BraTS-PED-00089-000', 'BraTS-PED-00091-000', 'BraTS-PED-00093-000', 'BraTS-PED-00096-000', 'BraTS-PED-00097-000', 'BraTS-PED-00094-000', 'BraTS-PED-00098-000', 'BraTS-PED-00099-000', 'BraTS-PED-00095-000', 'BraTS-PED-00083-000', 'BraTS-PED-00084-000', 'BraTS-PED-00080-000', 'BraTS-PED-00081-000', 'BraTS-PED-00086-000', 'BraTS-PED-00079-000', 'BraTS-PED-00085-000', 'BraTS-PED-00088-000', 'BraTS-PED-00087-000', 'BraTS-PED-00082-000', 'BraTS-PED-00071-000', 'BraTS-PED-00074-000', 'BraTS-PED-00073-000', 'BraTS-PED-00072-000', 'BraTS-PED-00075-000', 'BraTS-PED-00069-000', 'BraTS-PED-00078-000', 'BraTS-PED-00076-000', 'BraTS-PED-00070-000', 'BraTS-PED-00077-000', 'BraTS-PED-00068-000', 'BraTS-PED-00065-000', 'BraTS-PED-00067-000', 'BraTS-PED-00064-000', 'BraTS-PED-00062-000', 'BraTS-PED-00060-000', 'BraTS-PED-00059-000', 'BraTS-PED-00063-000', 'BraTS-PED-00061-000', 'BraTS-PED-00066-000', 'BraTS-PED-00050-000', 'BraTS-PED-00053-000', 'BraTS-PED-00052-000', 'BraTS-PED-00049-000', 'BraTS-PED-00051-000', 'BraTS-PED-00054-000', 'BraTS-PED-00056-000', 'BraTS-PED-00058-000', 'BraTS-PED-00057-000', 'BraTS-PED-00055-000', 'BraTS-PED-00039-000', 'BraTS-PED-00043-000', 'BraTS-PED-00042-000', 'BraTS-PED-00045-000', 'BraTS-PED-00044-000', 'BraTS-PED-00040-000', 'BraTS-PED-00048-000', 'BraTS-PED-00047-000', 'BraTS-PED-00046-000', 'BraTS-PED-00041-000', 'BraTS-PED-00034-000', 'BraTS-PED-00030-000', 'BraTS-PED-00038-000', 'BraTS-PED-00033-000', 'BraTS-PED-00032-000', 'BraTS-PED-00037-000', 'BraTS-PED-00035-000', 'BraTS-PED-00036-000', 'BraTS-PED-00029-000', 'BraTS-PED-00031-000', 'BraTS-PED-00026-000', 'BraTS-PED-00020-000', 'BraTS-PED-00025-000', 'BraTS-PED-00024-000', 'BraTS-PED-00019-000', 'BraTS-PED-00023-000', 'BraTS-PED-00021-000', 'BraTS-PED-00022-000', 'BraTS-PED-00028-000', 'BraTS-PED-00027-000', 'BraTS-PED-00013-000', 'BraTS-PED-00015-000', 'BraTS-PED-00017-000', 'BraTS-PED-00008-000', 'BraTS-PED-00018-000', 'BraTS-PED-00014-000', 'BraTS-PED-00006-000', 'BraTS-PED-00010-000', 'BraTS-PED-00009-000', 'BraTS-PED-00016-000', 'BraTS-PED-00004-000', 'BraTS-PED-00005-000', 'BraTS-PED-00003-000', 'BraTS-PED-00001-000', 'BraTS-PED-00002-000']\n"
          ]
        }
      ]
    },
    {
      "cell_type": "code",
      "source": [
        "import nibabel as nib\n",
        "\n",
        "patient_id = \"BraTS-PED-00029-000\"\n",
        "modality = \"t1c\"\n",
        "\n",
        "img_path = os.path.join(data_dir, patient_id, f\"{patient_id}-{modality}.nii.gz\")\n",
        "\n",
        "if os.path.exists(img_path):\n",
        "    img = nib.load(img_path).get_fdata()\n",
        "    print(f\"图像数据维度：{img.shape}\")\n",
        "else:\n",
        "    print(f\"未找到文件，请检查路径：{img_path}\")\n"
      ],
      "metadata": {
        "colab": {
          "base_uri": "https://localhost:8080/"
        },
        "id": "mlOExeRXHSC2",
        "outputId": "81a34096-9b38-42a8-90fa-bbec082c16c1"
      },
      "execution_count": null,
      "outputs": [
        {
          "output_type": "stream",
          "name": "stdout",
          "text": [
            "图像数据维度：(240, 240, 155)\n"
          ]
        }
      ]
    },
    {
      "cell_type": "code",
      "source": [
        "!pip install nibabel SimpleITK tqdm scikit-learn\n"
      ],
      "metadata": {
        "colab": {
          "base_uri": "https://localhost:8080/"
        },
        "id": "2006Xx4chJtI",
        "outputId": "feb313bf-9dd4-4efa-aa91-0d705176b598"
      },
      "execution_count": null,
      "outputs": [
        {
          "output_type": "stream",
          "name": "stdout",
          "text": [
            "Requirement already satisfied: nibabel in /usr/local/lib/python3.11/dist-packages (5.3.2)\n",
            "Collecting SimpleITK\n",
            "  Downloading SimpleITK-2.4.1-cp311-abi3-manylinux_2_17_x86_64.manylinux2014_x86_64.whl.metadata (7.9 kB)\n",
            "Requirement already satisfied: tqdm in /usr/local/lib/python3.11/dist-packages (4.67.1)\n",
            "Requirement already satisfied: scikit-learn in /usr/local/lib/python3.11/dist-packages (1.6.1)\n",
            "Requirement already satisfied: importlib-resources>=5.12 in /usr/local/lib/python3.11/dist-packages (from nibabel) (6.5.2)\n",
            "Requirement already satisfied: numpy>=1.22 in /usr/local/lib/python3.11/dist-packages (from nibabel) (2.0.2)\n",
            "Requirement already satisfied: packaging>=20 in /usr/local/lib/python3.11/dist-packages (from nibabel) (24.2)\n",
            "Requirement already satisfied: typing-extensions>=4.6 in /usr/local/lib/python3.11/dist-packages (from nibabel) (4.12.2)\n",
            "Requirement already satisfied: scipy>=1.6.0 in /usr/local/lib/python3.11/dist-packages (from scikit-learn) (1.14.1)\n",
            "Requirement already satisfied: joblib>=1.2.0 in /usr/local/lib/python3.11/dist-packages (from scikit-learn) (1.4.2)\n",
            "Requirement already satisfied: threadpoolctl>=3.1.0 in /usr/local/lib/python3.11/dist-packages (from scikit-learn) (3.6.0)\n",
            "Downloading SimpleITK-2.4.1-cp311-abi3-manylinux_2_17_x86_64.manylinux2014_x86_64.whl (52.3 MB)\n",
            "\u001b[2K   \u001b[90m━━━━━━━━━━━━━━━━━━━━━━━━━━━━━━━━━━━━━━━━\u001b[0m \u001b[32m52.3/52.3 MB\u001b[0m \u001b[31m43.5 MB/s\u001b[0m eta \u001b[36m0:00:00\u001b[0m\n",
            "\u001b[?25hInstalling collected packages: SimpleITK\n",
            "Successfully installed SimpleITK-2.4.1\n"
          ]
        }
      ]
    },
    {
      "cell_type": "code",
      "source": [
        "!pip install torch torchvision\n"
      ],
      "metadata": {
        "colab": {
          "base_uri": "https://localhost:8080/"
        },
        "id": "DSE680BMhjN-",
        "outputId": "797f80a6-c028-414f-c25c-61ec817f9539"
      },
      "execution_count": null,
      "outputs": [
        {
          "output_type": "stream",
          "name": "stdout",
          "text": [
            "Requirement already satisfied: torch in /usr/local/lib/python3.11/dist-packages (2.6.0+cu124)\n",
            "Requirement already satisfied: torchvision in /usr/local/lib/python3.11/dist-packages (0.21.0+cu124)\n",
            "Requirement already satisfied: filelock in /usr/local/lib/python3.11/dist-packages (from torch) (3.18.0)\n",
            "Requirement already satisfied: typing-extensions>=4.10.0 in /usr/local/lib/python3.11/dist-packages (from torch) (4.12.2)\n",
            "Requirement already satisfied: networkx in /usr/local/lib/python3.11/dist-packages (from torch) (3.4.2)\n",
            "Requirement already satisfied: jinja2 in /usr/local/lib/python3.11/dist-packages (from torch) (3.1.6)\n",
            "Requirement already satisfied: fsspec in /usr/local/lib/python3.11/dist-packages (from torch) (2025.3.0)\n",
            "Requirement already satisfied: nvidia-cuda-nvrtc-cu12==12.4.127 in /usr/local/lib/python3.11/dist-packages (from torch) (12.4.127)\n",
            "Requirement already satisfied: nvidia-cuda-runtime-cu12==12.4.127 in /usr/local/lib/python3.11/dist-packages (from torch) (12.4.127)\n",
            "Requirement already satisfied: nvidia-cuda-cupti-cu12==12.4.127 in /usr/local/lib/python3.11/dist-packages (from torch) (12.4.127)\n",
            "Requirement already satisfied: nvidia-cudnn-cu12==9.1.0.70 in /usr/local/lib/python3.11/dist-packages (from torch) (9.1.0.70)\n",
            "Requirement already satisfied: nvidia-cublas-cu12==12.4.5.8 in /usr/local/lib/python3.11/dist-packages (from torch) (12.4.5.8)\n",
            "Requirement already satisfied: nvidia-cufft-cu12==11.2.1.3 in /usr/local/lib/python3.11/dist-packages (from torch) (11.2.1.3)\n",
            "Requirement already satisfied: nvidia-curand-cu12==10.3.5.147 in /usr/local/lib/python3.11/dist-packages (from torch) (10.3.5.147)\n",
            "Requirement already satisfied: nvidia-cusolver-cu12==11.6.1.9 in /usr/local/lib/python3.11/dist-packages (from torch) (11.6.1.9)\n",
            "Requirement already satisfied: nvidia-cusparse-cu12==12.3.1.170 in /usr/local/lib/python3.11/dist-packages (from torch) (12.3.1.170)\n",
            "Requirement already satisfied: nvidia-cusparselt-cu12==0.6.2 in /usr/local/lib/python3.11/dist-packages (from torch) (0.6.2)\n",
            "Requirement already satisfied: nvidia-nccl-cu12==2.21.5 in /usr/local/lib/python3.11/dist-packages (from torch) (2.21.5)\n",
            "Requirement already satisfied: nvidia-nvtx-cu12==12.4.127 in /usr/local/lib/python3.11/dist-packages (from torch) (12.4.127)\n",
            "Requirement already satisfied: nvidia-nvjitlink-cu12==12.4.127 in /usr/local/lib/python3.11/dist-packages (from torch) (12.4.127)\n",
            "Requirement already satisfied: triton==3.2.0 in /usr/local/lib/python3.11/dist-packages (from torch) (3.2.0)\n",
            "Requirement already satisfied: sympy==1.13.1 in /usr/local/lib/python3.11/dist-packages (from torch) (1.13.1)\n",
            "Requirement already satisfied: mpmath<1.4,>=1.1.0 in /usr/local/lib/python3.11/dist-packages (from sympy==1.13.1->torch) (1.3.0)\n",
            "Requirement already satisfied: numpy in /usr/local/lib/python3.11/dist-packages (from torchvision) (2.0.2)\n",
            "Requirement already satisfied: pillow!=8.3.*,>=5.3.0 in /usr/local/lib/python3.11/dist-packages (from torchvision) (11.1.0)\n",
            "Requirement already satisfied: MarkupSafe>=2.0 in /usr/local/lib/python3.11/dist-packages (from jinja2->torch) (3.0.2)\n"
          ]
        }
      ]
    },
    {
      "cell_type": "code",
      "source": [
        "from google.colab import drive\n",
        "drive.mount('/content/drive')\n"
      ],
      "metadata": {
        "colab": {
          "base_uri": "https://localhost:8080/"
        },
        "id": "t3R2GGjzhwBv",
        "outputId": "14ca4b7a-5135-411a-b94f-d4cc77792e5d"
      },
      "execution_count": null,
      "outputs": [
        {
          "output_type": "stream",
          "name": "stdout",
          "text": [
            "Drive already mounted at /content/drive; to attempt to forcibly remount, call drive.mount(\"/content/drive\", force_remount=True).\n"
          ]
        }
      ]
    },
    {
      "cell_type": "code",
      "source": [
        "# 克隆\n",
        "!git clone https://github.com/MIC-DKFZ/nnUNet.git\n",
        "%cd nnUNet\n",
        "!git checkout v2.2.1\n",
        "!pip install -e .\n",
        "!pip install batchgenerators matplotlib nibabel\n"
      ],
      "metadata": {
        "colab": {
          "base_uri": "https://localhost:8080/",
          "height": 1000
        },
        "id": "OGk7d2_kuDi8",
        "outputId": "15707f9a-620e-4e14-a305-015a7b5b0569"
      },
      "execution_count": null,
      "outputs": [
        {
          "output_type": "stream",
          "name": "stdout",
          "text": [
            "fatal: destination path 'nnUNet' already exists and is not an empty directory.\n",
            "/content/nnUNet\n",
            "Note: switching to 'v2.2.1'.\n",
            "\n",
            "You are in 'detached HEAD' state. You can look around, make experimental\n",
            "changes and commit them, and you can discard any commits you make in this\n",
            "state without impacting any branches by switching back to a branch.\n",
            "\n",
            "If you want to create a new branch to retain commits you create, you may\n",
            "do so (now or later) by using -c with the switch command. Example:\n",
            "\n",
            "  git switch -c <new-branch-name>\n",
            "\n",
            "Or undo this operation with:\n",
            "\n",
            "  git switch -\n",
            "\n",
            "Turn off this advice by setting config variable advice.detachedHead to false\n",
            "\n",
            "HEAD is now at 8451291 restrict dynamic-network-architectures to ==0.2\n",
            "Obtaining file:///content/nnUNet\n",
            "  Installing build dependencies ... \u001b[?25l\u001b[?25hdone\n",
            "  Checking if build backend supports build_editable ... \u001b[?25l\u001b[?25hdone\n",
            "  Getting requirements to build editable ... \u001b[?25l\u001b[?25hdone\n",
            "  Preparing editable metadata (pyproject.toml) ... \u001b[?25l\u001b[?25hdone\n",
            "Requirement already satisfied: torch>=2.0.0 in /usr/local/lib/python3.11/dist-packages (from nnunetv2==2.2.1) (2.6.0+cu124)\n",
            "Requirement already satisfied: acvl-utils>=0.2 in /usr/local/lib/python3.11/dist-packages (from nnunetv2==2.2.1) (0.2.5)\n",
            "Collecting dynamic-network-architectures==0.2 (from nnunetv2==2.2.1)\n",
            "  Downloading dynamic_network_architectures-0.2.tar.gz (20 kB)\n",
            "  Preparing metadata (setup.py) ... \u001b[?25l\u001b[?25hdone\n",
            "Requirement already satisfied: tqdm in /usr/local/lib/python3.11/dist-packages (from nnunetv2==2.2.1) (4.67.1)\n",
            "Requirement already satisfied: dicom2nifti in /usr/local/lib/python3.11/dist-packages (from nnunetv2==2.2.1) (2.5.1)\n",
            "Requirement already satisfied: scipy in /usr/local/lib/python3.11/dist-packages (from nnunetv2==2.2.1) (1.14.1)\n",
            "Requirement already satisfied: batchgenerators>=0.25 in /usr/local/lib/python3.11/dist-packages (from nnunetv2==2.2.1) (0.25.1)\n",
            "Requirement already satisfied: numpy in /usr/local/lib/python3.11/dist-packages (from nnunetv2==2.2.1) (2.0.2)\n",
            "Requirement already satisfied: scikit-learn in /usr/local/lib/python3.11/dist-packages (from nnunetv2==2.2.1) (1.6.1)\n",
            "Requirement already satisfied: scikit-image>=0.19.3 in /usr/local/lib/python3.11/dist-packages (from nnunetv2==2.2.1) (0.25.2)\n",
            "Requirement already satisfied: SimpleITK>=2.2.1 in /usr/local/lib/python3.11/dist-packages (from nnunetv2==2.2.1) (2.4.1)\n",
            "Requirement already satisfied: pandas in /usr/local/lib/python3.11/dist-packages (from nnunetv2==2.2.1) (2.2.2)\n",
            "Requirement already satisfied: graphviz in /usr/local/lib/python3.11/dist-packages (from nnunetv2==2.2.1) (0.20.3)\n",
            "Requirement already satisfied: tifffile in /usr/local/lib/python3.11/dist-packages (from nnunetv2==2.2.1) (2025.3.13)\n",
            "Requirement already satisfied: requests in /usr/local/lib/python3.11/dist-packages (from nnunetv2==2.2.1) (2.32.3)\n",
            "Requirement already satisfied: nibabel in /usr/local/lib/python3.11/dist-packages (from nnunetv2==2.2.1) (5.3.2)\n",
            "Requirement already satisfied: matplotlib in /usr/local/lib/python3.11/dist-packages (from nnunetv2==2.2.1) (3.10.0)\n",
            "Requirement already satisfied: seaborn in /usr/local/lib/python3.11/dist-packages (from nnunetv2==2.2.1) (0.13.2)\n",
            "Requirement already satisfied: imagecodecs in /usr/local/lib/python3.11/dist-packages (from nnunetv2==2.2.1) (2024.12.30)\n",
            "Requirement already satisfied: yacs in /usr/local/lib/python3.11/dist-packages (from nnunetv2==2.2.1) (0.1.8)\n",
            "Requirement already satisfied: connected-components-3d in /usr/local/lib/python3.11/dist-packages (from acvl-utils>=0.2->nnunetv2==2.2.1) (3.23.0)\n",
            "Requirement already satisfied: blosc2>=3.0.0b4 in /usr/local/lib/python3.11/dist-packages (from acvl-utils>=0.2->nnunetv2==2.2.1) (3.2.0)\n",
            "Requirement already satisfied: pillow>=7.1.2 in /usr/local/lib/python3.11/dist-packages (from batchgenerators>=0.25->nnunetv2==2.2.1) (11.1.0)\n",
            "Requirement already satisfied: future in /usr/local/lib/python3.11/dist-packages (from batchgenerators>=0.25->nnunetv2==2.2.1) (1.0.0)\n",
            "Requirement already satisfied: unittest2 in /usr/local/lib/python3.11/dist-packages (from batchgenerators>=0.25->nnunetv2==2.2.1) (1.1.0)\n",
            "Requirement already satisfied: threadpoolctl in /usr/local/lib/python3.11/dist-packages (from batchgenerators>=0.25->nnunetv2==2.2.1) (3.6.0)\n",
            "Requirement already satisfied: networkx>=3.0 in /usr/local/lib/python3.11/dist-packages (from scikit-image>=0.19.3->nnunetv2==2.2.1) (3.4.2)\n",
            "Requirement already satisfied: imageio!=2.35.0,>=2.33 in /usr/local/lib/python3.11/dist-packages (from scikit-image>=0.19.3->nnunetv2==2.2.1) (2.37.0)\n",
            "Requirement already satisfied: packaging>=21 in /usr/local/lib/python3.11/dist-packages (from scikit-image>=0.19.3->nnunetv2==2.2.1) (24.2)\n",
            "Requirement already satisfied: lazy-loader>=0.4 in /usr/local/lib/python3.11/dist-packages (from scikit-image>=0.19.3->nnunetv2==2.2.1) (0.4)\n",
            "Requirement already satisfied: filelock in /usr/local/lib/python3.11/dist-packages (from torch>=2.0.0->nnunetv2==2.2.1) (3.18.0)\n",
            "Requirement already satisfied: typing-extensions>=4.10.0 in /usr/local/lib/python3.11/dist-packages (from torch>=2.0.0->nnunetv2==2.2.1) (4.12.2)\n",
            "Requirement already satisfied: jinja2 in /usr/local/lib/python3.11/dist-packages (from torch>=2.0.0->nnunetv2==2.2.1) (3.1.6)\n",
            "Requirement already satisfied: fsspec in /usr/local/lib/python3.11/dist-packages (from torch>=2.0.0->nnunetv2==2.2.1) (2025.3.0)\n",
            "Requirement already satisfied: nvidia-cuda-nvrtc-cu12==12.4.127 in /usr/local/lib/python3.11/dist-packages (from torch>=2.0.0->nnunetv2==2.2.1) (12.4.127)\n",
            "Requirement already satisfied: nvidia-cuda-runtime-cu12==12.4.127 in /usr/local/lib/python3.11/dist-packages (from torch>=2.0.0->nnunetv2==2.2.1) (12.4.127)\n",
            "Requirement already satisfied: nvidia-cuda-cupti-cu12==12.4.127 in /usr/local/lib/python3.11/dist-packages (from torch>=2.0.0->nnunetv2==2.2.1) (12.4.127)\n",
            "Requirement already satisfied: nvidia-cudnn-cu12==9.1.0.70 in /usr/local/lib/python3.11/dist-packages (from torch>=2.0.0->nnunetv2==2.2.1) (9.1.0.70)\n",
            "Requirement already satisfied: nvidia-cublas-cu12==12.4.5.8 in /usr/local/lib/python3.11/dist-packages (from torch>=2.0.0->nnunetv2==2.2.1) (12.4.5.8)\n",
            "Requirement already satisfied: nvidia-cufft-cu12==11.2.1.3 in /usr/local/lib/python3.11/dist-packages (from torch>=2.0.0->nnunetv2==2.2.1) (11.2.1.3)\n",
            "Requirement already satisfied: nvidia-curand-cu12==10.3.5.147 in /usr/local/lib/python3.11/dist-packages (from torch>=2.0.0->nnunetv2==2.2.1) (10.3.5.147)\n",
            "Requirement already satisfied: nvidia-cusolver-cu12==11.6.1.9 in /usr/local/lib/python3.11/dist-packages (from torch>=2.0.0->nnunetv2==2.2.1) (11.6.1.9)\n",
            "Requirement already satisfied: nvidia-cusparse-cu12==12.3.1.170 in /usr/local/lib/python3.11/dist-packages (from torch>=2.0.0->nnunetv2==2.2.1) (12.3.1.170)\n",
            "Requirement already satisfied: nvidia-cusparselt-cu12==0.6.2 in /usr/local/lib/python3.11/dist-packages (from torch>=2.0.0->nnunetv2==2.2.1) (0.6.2)\n",
            "Requirement already satisfied: nvidia-nccl-cu12==2.21.5 in /usr/local/lib/python3.11/dist-packages (from torch>=2.0.0->nnunetv2==2.2.1) (2.21.5)\n",
            "Requirement already satisfied: nvidia-nvtx-cu12==12.4.127 in /usr/local/lib/python3.11/dist-packages (from torch>=2.0.0->nnunetv2==2.2.1) (12.4.127)\n",
            "Requirement already satisfied: nvidia-nvjitlink-cu12==12.4.127 in /usr/local/lib/python3.11/dist-packages (from torch>=2.0.0->nnunetv2==2.2.1) (12.4.127)\n",
            "Requirement already satisfied: triton==3.2.0 in /usr/local/lib/python3.11/dist-packages (from torch>=2.0.0->nnunetv2==2.2.1) (3.2.0)\n",
            "Requirement already satisfied: sympy==1.13.1 in /usr/local/lib/python3.11/dist-packages (from torch>=2.0.0->nnunetv2==2.2.1) (1.13.1)\n",
            "Requirement already satisfied: mpmath<1.4,>=1.1.0 in /usr/local/lib/python3.11/dist-packages (from sympy==1.13.1->torch>=2.0.0->nnunetv2==2.2.1) (1.3.0)\n",
            "Requirement already satisfied: pydicom>=2.2.0 in /usr/local/lib/python3.11/dist-packages (from dicom2nifti->nnunetv2==2.2.1) (3.0.1)\n",
            "Requirement already satisfied: python-gdcm in /usr/local/lib/python3.11/dist-packages (from dicom2nifti->nnunetv2==2.2.1) (3.0.24.1)\n",
            "Requirement already satisfied: contourpy>=1.0.1 in /usr/local/lib/python3.11/dist-packages (from matplotlib->nnunetv2==2.2.1) (1.3.1)\n",
            "Requirement already satisfied: cycler>=0.10 in /usr/local/lib/python3.11/dist-packages (from matplotlib->nnunetv2==2.2.1) (0.12.1)\n",
            "Requirement already satisfied: fonttools>=4.22.0 in /usr/local/lib/python3.11/dist-packages (from matplotlib->nnunetv2==2.2.1) (4.56.0)\n",
            "Requirement already satisfied: kiwisolver>=1.3.1 in /usr/local/lib/python3.11/dist-packages (from matplotlib->nnunetv2==2.2.1) (1.4.8)\n",
            "Requirement already satisfied: pyparsing>=2.3.1 in /usr/local/lib/python3.11/dist-packages (from matplotlib->nnunetv2==2.2.1) (3.2.1)\n",
            "Requirement already satisfied: python-dateutil>=2.7 in /usr/local/lib/python3.11/dist-packages (from matplotlib->nnunetv2==2.2.1) (2.8.2)\n",
            "Requirement already satisfied: importlib-resources>=5.12 in /usr/local/lib/python3.11/dist-packages (from nibabel->nnunetv2==2.2.1) (6.5.2)\n",
            "Requirement already satisfied: pytz>=2020.1 in /usr/local/lib/python3.11/dist-packages (from pandas->nnunetv2==2.2.1) (2025.1)\n",
            "Requirement already satisfied: tzdata>=2022.7 in /usr/local/lib/python3.11/dist-packages (from pandas->nnunetv2==2.2.1) (2025.1)\n",
            "Requirement already satisfied: charset-normalizer<4,>=2 in /usr/local/lib/python3.11/dist-packages (from requests->nnunetv2==2.2.1) (3.4.1)\n",
            "Requirement already satisfied: idna<4,>=2.5 in /usr/local/lib/python3.11/dist-packages (from requests->nnunetv2==2.2.1) (3.10)\n",
            "Requirement already satisfied: urllib3<3,>=1.21.1 in /usr/local/lib/python3.11/dist-packages (from requests->nnunetv2==2.2.1) (2.3.0)\n",
            "Requirement already satisfied: certifi>=2017.4.17 in /usr/local/lib/python3.11/dist-packages (from requests->nnunetv2==2.2.1) (2025.1.31)\n",
            "Requirement already satisfied: joblib>=1.2.0 in /usr/local/lib/python3.11/dist-packages (from scikit-learn->nnunetv2==2.2.1) (1.4.2)\n",
            "Requirement already satisfied: PyYAML in /usr/local/lib/python3.11/dist-packages (from yacs->nnunetv2==2.2.1) (6.0.2)\n",
            "Requirement already satisfied: ndindex in /usr/local/lib/python3.11/dist-packages (from blosc2>=3.0.0b4->acvl-utils>=0.2->nnunetv2==2.2.1) (1.9.2)\n",
            "Requirement already satisfied: msgpack in /usr/local/lib/python3.11/dist-packages (from blosc2>=3.0.0b4->acvl-utils>=0.2->nnunetv2==2.2.1) (1.1.0)\n",
            "Requirement already satisfied: platformdirs in /usr/local/lib/python3.11/dist-packages (from blosc2>=3.0.0b4->acvl-utils>=0.2->nnunetv2==2.2.1) (4.3.7)\n",
            "Requirement already satisfied: numexpr in /usr/local/lib/python3.11/dist-packages (from blosc2>=3.0.0b4->acvl-utils>=0.2->nnunetv2==2.2.1) (2.10.2)\n",
            "Requirement already satisfied: py-cpuinfo in /usr/local/lib/python3.11/dist-packages (from blosc2>=3.0.0b4->acvl-utils>=0.2->nnunetv2==2.2.1) (9.0.0)\n",
            "Requirement already satisfied: six>=1.5 in /usr/local/lib/python3.11/dist-packages (from python-dateutil>=2.7->matplotlib->nnunetv2==2.2.1) (1.17.0)\n",
            "Requirement already satisfied: MarkupSafe>=2.0 in /usr/local/lib/python3.11/dist-packages (from jinja2->torch>=2.0.0->nnunetv2==2.2.1) (3.0.2)\n",
            "Collecting argparse (from unittest2->batchgenerators>=0.25->nnunetv2==2.2.1)\n",
            "  Using cached argparse-1.4.0-py2.py3-none-any.whl.metadata (2.8 kB)\n",
            "Requirement already satisfied: traceback2 in /usr/local/lib/python3.11/dist-packages (from unittest2->batchgenerators>=0.25->nnunetv2==2.2.1) (1.4.0)\n",
            "Requirement already satisfied: linecache2 in /usr/local/lib/python3.11/dist-packages (from traceback2->unittest2->batchgenerators>=0.25->nnunetv2==2.2.1) (1.0.0)\n",
            "Using cached argparse-1.4.0-py2.py3-none-any.whl (23 kB)\n",
            "Building wheels for collected packages: nnunetv2, dynamic-network-architectures\n",
            "  Building editable for nnunetv2 (pyproject.toml) ... \u001b[?25l\u001b[?25hdone\n",
            "  Created wheel for nnunetv2: filename=nnunetv2-2.2.1-0.editable-py3-none-any.whl size=16435 sha256=6ed758e89b353164aedeeebbd71afc1eae5b066b715c87302d5469cd00706f40\n",
            "  Stored in directory: /tmp/pip-ephem-wheel-cache-q4gdw6lx/wheels/2a/a6/3a/a708be8093b6d70dcfceb5de9867bfa2a75ecf91e22d90b1fc\n",
            "  Building wheel for dynamic-network-architectures (setup.py) ... \u001b[?25l\u001b[?25hdone\n",
            "  Created wheel for dynamic-network-architectures: filename=dynamic_network_architectures-0.2-py3-none-any.whl size=27241 sha256=4be5265950766408e60e0e81d5752b36f2e4a5c27aa205fe5aef9bdfa27959ab\n",
            "  Stored in directory: /root/.cache/pip/wheels/2f/08/4b/82366b24c46edec2f08256ef4604c470ee6061caeb673c0047\n",
            "Successfully built nnunetv2 dynamic-network-architectures\n",
            "Installing collected packages: argparse, dynamic-network-architectures, nnunetv2\n",
            "  Attempting uninstall: dynamic-network-architectures\n",
            "    Found existing installation: dynamic_network_architectures 0.3.1\n",
            "    Uninstalling dynamic_network_architectures-0.3.1:\n",
            "      Successfully uninstalled dynamic_network_architectures-0.3.1\n",
            "  Attempting uninstall: nnunetv2\n",
            "    Found existing installation: nnunetv2 2.6.0\n",
            "    Uninstalling nnunetv2-2.6.0:\n",
            "      Successfully uninstalled nnunetv2-2.6.0\n",
            "Successfully installed argparse-1.4.0 dynamic-network-architectures-0.2 nnunetv2-2.2.1\n"
          ]
        },
        {
          "output_type": "display_data",
          "data": {
            "application/vnd.colab-display-data+json": {
              "pip_warning": {
                "packages": [
                  "argparse"
                ]
              },
              "id": "4733de324aff4ee4942e24d5b9c8d077"
            }
          },
          "metadata": {}
        },
        {
          "output_type": "stream",
          "name": "stdout",
          "text": [
            "Requirement already satisfied: batchgenerators in /usr/local/lib/python3.11/dist-packages (0.25.1)\n",
            "Requirement already satisfied: matplotlib in /usr/local/lib/python3.11/dist-packages (3.10.0)\n",
            "Requirement already satisfied: nibabel in /usr/local/lib/python3.11/dist-packages (5.3.2)\n",
            "Requirement already satisfied: pillow>=7.1.2 in /usr/local/lib/python3.11/dist-packages (from batchgenerators) (11.1.0)\n",
            "Requirement already satisfied: numpy>=1.10.2 in /usr/local/lib/python3.11/dist-packages (from batchgenerators) (2.0.2)\n",
            "Requirement already satisfied: scipy in /usr/local/lib/python3.11/dist-packages (from batchgenerators) (1.14.1)\n",
            "Requirement already satisfied: scikit-image in /usr/local/lib/python3.11/dist-packages (from batchgenerators) (0.25.2)\n",
            "Requirement already satisfied: scikit-learn in /usr/local/lib/python3.11/dist-packages (from batchgenerators) (1.6.1)\n",
            "Requirement already satisfied: future in /usr/local/lib/python3.11/dist-packages (from batchgenerators) (1.0.0)\n",
            "Requirement already satisfied: pandas in /usr/local/lib/python3.11/dist-packages (from batchgenerators) (2.2.2)\n",
            "Requirement already satisfied: unittest2 in /usr/local/lib/python3.11/dist-packages (from batchgenerators) (1.1.0)\n",
            "Requirement already satisfied: threadpoolctl in /usr/local/lib/python3.11/dist-packages (from batchgenerators) (3.6.0)\n",
            "Requirement already satisfied: contourpy>=1.0.1 in /usr/local/lib/python3.11/dist-packages (from matplotlib) (1.3.1)\n",
            "Requirement already satisfied: cycler>=0.10 in /usr/local/lib/python3.11/dist-packages (from matplotlib) (0.12.1)\n",
            "Requirement already satisfied: fonttools>=4.22.0 in /usr/local/lib/python3.11/dist-packages (from matplotlib) (4.56.0)\n",
            "Requirement already satisfied: kiwisolver>=1.3.1 in /usr/local/lib/python3.11/dist-packages (from matplotlib) (1.4.8)\n",
            "Requirement already satisfied: packaging>=20.0 in /usr/local/lib/python3.11/dist-packages (from matplotlib) (24.2)\n",
            "Requirement already satisfied: pyparsing>=2.3.1 in /usr/local/lib/python3.11/dist-packages (from matplotlib) (3.2.1)\n",
            "Requirement already satisfied: python-dateutil>=2.7 in /usr/local/lib/python3.11/dist-packages (from matplotlib) (2.8.2)\n",
            "Requirement already satisfied: importlib-resources>=5.12 in /usr/local/lib/python3.11/dist-packages (from nibabel) (6.5.2)\n",
            "Requirement already satisfied: typing-extensions>=4.6 in /usr/local/lib/python3.11/dist-packages (from nibabel) (4.12.2)\n",
            "Requirement already satisfied: six>=1.5 in /usr/local/lib/python3.11/dist-packages (from python-dateutil>=2.7->matplotlib) (1.17.0)\n",
            "Requirement already satisfied: pytz>=2020.1 in /usr/local/lib/python3.11/dist-packages (from pandas->batchgenerators) (2025.1)\n",
            "Requirement already satisfied: tzdata>=2022.7 in /usr/local/lib/python3.11/dist-packages (from pandas->batchgenerators) (2025.1)\n",
            "Requirement already satisfied: networkx>=3.0 in /usr/local/lib/python3.11/dist-packages (from scikit-image->batchgenerators) (3.4.2)\n",
            "Requirement already satisfied: imageio!=2.35.0,>=2.33 in /usr/local/lib/python3.11/dist-packages (from scikit-image->batchgenerators) (2.37.0)\n",
            "Requirement already satisfied: tifffile>=2022.8.12 in /usr/local/lib/python3.11/dist-packages (from scikit-image->batchgenerators) (2025.3.13)\n",
            "Requirement already satisfied: lazy-loader>=0.4 in /usr/local/lib/python3.11/dist-packages (from scikit-image->batchgenerators) (0.4)\n",
            "Requirement already satisfied: joblib>=1.2.0 in /usr/local/lib/python3.11/dist-packages (from scikit-learn->batchgenerators) (1.4.2)\n",
            "Collecting argparse (from unittest2->batchgenerators)\n",
            "  Using cached argparse-1.4.0-py2.py3-none-any.whl.metadata (2.8 kB)\n",
            "Requirement already satisfied: traceback2 in /usr/local/lib/python3.11/dist-packages (from unittest2->batchgenerators) (1.4.0)\n",
            "Requirement already satisfied: linecache2 in /usr/local/lib/python3.11/dist-packages (from traceback2->unittest2->batchgenerators) (1.0.0)\n",
            "Using cached argparse-1.4.0-py2.py3-none-any.whl (23 kB)\n",
            "Installing collected packages: argparse\n",
            "Successfully installed argparse-1.4.0\n"
          ]
        },
        {
          "output_type": "display_data",
          "data": {
            "application/vnd.colab-display-data+json": {
              "pip_warning": {
                "packages": [
                  "argparse"
                ]
              },
              "id": "97ee871058f84fa9950462d30f2a3155"
            }
          },
          "metadata": {}
        }
      ]
    },
    {
      "cell_type": "code",
      "source": [
        "import nibabel as nib\n",
        "import matplotlib.pyplot as plt\n",
        "\n",
        "img_path = '/content/drive/MyDrive/BraTS-PEDs2024_Training_small_set/BraTS-PED-00002-000/BraTS-PED-00002-000-t2w.nii.gz'\n",
        "img = nib.load(img_path)\n",
        "data = img.get_fdata()\n",
        "\n",
        "slice_index = data.shape[2] // 2  # 取中间切片\n",
        "plt.imshow(data[:, :, slice_index], cmap='gray')\n",
        "plt.title('Middle slice of T1 MRI')\n",
        "plt.show()\n"
      ],
      "metadata": {
        "colab": {
          "base_uri": "https://localhost:8080/",
          "height": 452
        },
        "id": "579g4dUfv0jE",
        "outputId": "809f0019-4505-4cc2-93c2-9f140b015375"
      },
      "execution_count": null,
      "outputs": [
        {
          "output_type": "display_data",
          "data": {
            "text/plain": [
              "<Figure size 640x480 with 1 Axes>"
            ],
            "image/png": "[encoded data removed]"
          },
          "metadata": {}
        }
      ]
    },
    {
      "cell_type": "code",
      "source": [
        "import os\n",
        "\n",
        "os.environ['nnUNet_raw'] = '/content/nnUNet_raw'\n",
        "os.environ['nnUNet_preprocessed'] = '/content/nnUNet_preprocessed'\n",
        "os.environ['nnUNet_results'] = '/content/nnUNet_results'\n"
      ],
      "metadata": {
        "id": "n7uVsw759Jwu"
      },
      "execution_count": null,
      "outputs": []
    },
    {
      "cell_type": "code",
      "source": [
        "%cd /content/nnUNet\n"
      ],
      "metadata": {
        "colab": {
          "base_uri": "https://localhost:8080/"
        },
        "id": "kv4oGKYRxDmj",
        "outputId": "5cf908f4-da35-4de8-938d-c5dcb06fbe5c"
      },
      "execution_count": null,
      "outputs": [
        {
          "output_type": "stream",
          "name": "stdout",
          "text": [
            "/content/nnUNet\n"
          ]
        }
      ]
    },
    {
      "cell_type": "code",
      "source": [
        "!pip show nnunetv2\n",
        "\n"
      ],
      "metadata": {
        "colab": {
          "base_uri": "https://localhost:8080/"
        },
        "id": "JobKO2KJzuLN",
        "outputId": "6fb293ba-58cd-45a6-d1d8-0b4499afbc6a"
      },
      "execution_count": null,
      "outputs": [
        {
          "output_type": "stream",
          "name": "stdout",
          "text": [
            "Name: nnunetv2\n",
            "Version: 2.6.0\n",
            "Summary: nnU-Net is a framework for out-of-the box image segmentation.\n",
            "Home-page: https://github.com/MIC-DKFZ/nnUNet\n",
            "Author: Helmholtz Imaging Applied Computer Vision Lab\n",
            "Author-email: Fabian Isensee <f.isensee@dkfz-heidelberg.de>\n",
            "License: Apache License\n",
            "                           Version 2.0, January 2004\n",
            "                        http://www.apache.org/licenses/\n",
            "\n",
            "   TERMS AND CONDITIONS FOR USE, REPRODUCTION, AND DISTRIBUTION\n",
            "\n",
            "   1. Definitions.\n",
            "\n",
            "      \"License\" shall mean the terms and conditions for use, reproduction,\n",
            "      and distribution as defined by Sections 1 through 9 of this document.\n",
            "\n",
            "      \"Licensor\" shall mean the copyright owner or entity authorized by\n",
            "      the copyright owner that is granting the License.\n",
            "\n",
            "      \"Legal Entity\" shall mean the union of the acting entity and all\n",
            "      other entities that control, are controlled by, or are under common\n",
            "      control with that entity. For the purposes of this definition,\n",
            "      \"control\" means (i) the power, direct or indirect, to cause the\n",
            "      direction or management of such entity, whether by contract or\n",
            "      otherwise, or (ii) ownership of fifty percent (50%) or more of the\n",
            "      outstanding shares, or (iii) beneficial ownership of such entity.\n",
            "\n",
            "      \"You\" (or \"Your\") shall mean an individual or Legal Entity\n",
            "      exercising permissions granted by this License.\n",
            "\n",
            "      \"Source\" form shall mean the preferred form for making modifications,\n",
            "      including but not limited to software source code, documentation\n",
            "      source, and configuration files.\n",
            "\n",
            "      \"Object\" form shall mean any form resulting from mechanical\n",
            "      transformation or translation of a Source form, including but\n",
            "      not limited to compiled object code, generated documentation,\n",
            "      and conversions to other media types.\n",
            "\n",
            "      \"Work\" shall mean the work of authorship, whether in Source or\n",
            "      Object form, made available under the License, as indicated by a\n",
            "      copyright notice that is included in or attached to the work\n",
            "      (an example is provided in the Appendix below).\n",
            "\n",
            "      \"Derivative Works\" shall mean any work, whether in Source or Object\n",
            "      form, that is based on (or derived from) the Work and for which the\n",
            "      editorial revisions, annotations, elaborations, or other modifications\n",
            "      represent, as a whole, an original work of authorship. For the purposes\n",
            "      of this License, Derivative Works shall not include works that remain\n",
            "      separable from, or merely link (or bind by name) to the interfaces of,\n",
            "      the Work and Derivative Works thereof.\n",
            "\n",
            "      \"Contribution\" shall mean any work of authorship, including\n",
            "      the original version of the Work and any modifications or additions\n",
            "      to that Work or Derivative Works thereof, that is intentionally\n",
            "      submitted to Licensor for inclusion in the Work by the copyright owner\n",
            "      or by an individual or Legal Entity authorized to submit on behalf of\n",
            "      the copyright owner. For the purposes of this definition, \"submitted\"\n",
            "      means any form of electronic, verbal, or written communication sent\n",
            "      to the Licensor or its representatives, including but not limited to\n",
            "      communication on electronic mailing lists, source code control systems,\n",
            "      and issue tracking systems that are managed by, or on behalf of, the\n",
            "      Licensor for the purpose of discussing and improving the Work, but\n",
            "      excluding communication that is conspicuously marked or otherwise\n",
            "      designated in writing by the copyright owner as \"Not a Contribution.\"\n",
            "\n",
            "      \"Contributor\" shall mean Licensor and any individual or Legal Entity\n",
            "      on behalf of whom a Contribution has been received by Licensor and\n",
            "      subsequently incorporated within the Work.\n",
            "\n",
            "   2. Grant of Copyright License. Subject to the terms and conditions of\n",
            "      this License, each Contributor hereby grants to You a perpetual,\n",
            "      worldwide, non-exclusive, no-charge, royalty-free, irrevocable\n",
            "      copyright license to reproduce, prepare Derivative Works of,\n",
            "      publicly display, publicly perform, sublicense, and distribute the\n",
            "      Work and such Derivative Works in Source or Object form.\n",
            "\n",
            "   3. Grant of Patent License. Subject to the terms and conditions of\n",
            "      this License, each Contributor hereby grants to You a perpetual,\n",
            "      worldwide, non-exclusive, no-charge, royalty-free, irrevocable\n",
            "      (except as stated in this section) patent license to make, have made,\n",
            "      use, offer to sell, sell, import, and otherwise transfer the Work,\n",
            "      where such license applies only to those patent claims licensable\n",
            "      by such Contributor that are necessarily infringed by their\n",
            "      Contribution(s) alone or by combination of their Contribution(s)\n",
            "      with the Work to which such Contribution(s) was submitted. If You\n",
            "      institute patent litigation against any entity (including a\n",
            "      cross-claim or counterclaim in a lawsuit) alleging that the Work\n",
            "      or a Contribution incorporated within the Work constitutes direct\n",
            "      or contributory patent infringement, then any patent licenses\n",
            "      granted to You under this License for that Work shall terminate\n",
            "      as of the date such litigation is filed.\n",
            "\n",
            "   4. Redistribution. You may reproduce and distribute copies of the\n",
            "      Work or Derivative Works thereof in any medium, with or without\n",
            "      modifications, and in Source or Object form, provided that You\n",
            "      meet the following conditions:\n",
            "\n",
            "      (a) You must give any other recipients of the Work or\n",
            "          Derivative Works a copy of this License; and\n",
            "\n",
            "      (b) You must cause any modified files to carry prominent notices\n",
            "          stating that You changed the files; and\n",
            "\n",
            "      (c) You must retain, in the Source form of any Derivative Works\n",
            "          that You distribute, all copyright, patent, trademark, and\n",
            "          attribution notices from the Source form of the Work,\n",
            "          excluding those notices that do not pertain to any part of\n",
            "          the Derivative Works; and\n",
            "\n",
            "      (d) If the Work includes a \"NOTICE\" text file as part of its\n",
            "          distribution, then any Derivative Works that You distribute must\n",
            "          include a readable copy of the attribution notices contained\n",
            "          within such NOTICE file, excluding those notices that do not\n",
            "          pertain to any part of the Derivative Works, in at least one\n",
            "          of the following places: within a NOTICE text file distributed\n",
            "          as part of the Derivative Works; within the Source form or\n",
            "          documentation, if provided along with the Derivative Works; or,\n",
            "          within a display generated by the Derivative Works, if and\n",
            "          wherever such third-party notices normally appear. The contents\n",
            "          of the NOTICE file are for informational purposes only and\n",
            "          do not modify the License. You may add Your own attribution\n",
            "          notices within Derivative Works that You distribute, alongside\n",
            "          or as an addendum to the NOTICE text from the Work, provided\n",
            "          that such additional attribution notices cannot be construed\n",
            "          as modifying the License.\n",
            "\n",
            "      You may add Your own copyright statement to Your modifications and\n",
            "      may provide additional or different license terms and conditions\n",
            "      for use, reproduction, or distribution of Your modifications, or\n",
            "      for any such Derivative Works as a whole, provided Your use,\n",
            "      reproduction, and distribution of the Work otherwise complies with\n",
            "      the conditions stated in this License.\n",
            "\n",
            "   5. Submission of Contributions. Unless You explicitly state otherwise,\n",
            "      any Contribution intentionally submitted for inclusion in the Work\n",
            "      by You to the Licensor shall be under the terms and conditions of\n",
            "      this License, without any additional terms or conditions.\n",
            "      Notwithstanding the above, nothing herein shall supersede or modify\n",
            "      the terms of any separate license agreement you may have executed\n",
            "      with Licensor regarding such Contributions.\n",
            "\n",
            "   6. Trademarks. This License does not grant permission to use the trade\n",
            "      names, trademarks, service marks, or product names of the Licensor,\n",
            "      except as required for reasonable and customary use in describing the\n",
            "      origin of the Work and reproducing the content of the NOTICE file.\n",
            "\n",
            "   7. Disclaimer of Warranty. Unless required by applicable law or\n",
            "      agreed to in writing, Licensor provides the Work (and each\n",
            "      Contributor provides its Contributions) on an \"AS IS\" BASIS,\n",
            "      WITHOUT WARRANTIES OR CONDITIONS OF ANY KIND, either express or\n",
            "      implied, including, without limitation, any warranties or conditions\n",
            "      of TITLE, NON-INFRINGEMENT, MERCHANTABILITY, or FITNESS FOR A\n",
            "      PARTICULAR PURPOSE. You are solely responsible for determining the\n",
            "      appropriateness of using or redistributing the Work and assume any\n",
            "      risks associated with Your exercise of permissions under this License.\n",
            "\n",
            "   8. Limitation of Liability. In no event and under no legal theory,\n",
            "      whether in tort (including negligence), contract, or otherwise,\n",
            "      unless required by applicable law (such as deliberate and grossly\n",
            "      negligent acts) or agreed to in writing, shall any Contributor be\n",
            "      liable to You for damages, including any direct, indirect, special,\n",
            "      incidental, or consequential damages of any character arising as a\n",
            "      result of this License or out of the use or inability to use the\n",
            "      Work (including but not limited to damages for loss of goodwill,\n",
            "      work stoppage, computer failure or malfunction, or any and all\n",
            "      other commercial damages or losses), even if such Contributor\n",
            "      has been advised of the possibility of such damages.\n",
            "\n",
            "   9. Accepting Warranty or Additional Liability. While redistributing\n",
            "      the Work or Derivative Works thereof, You may choose to offer,\n",
            "      and charge a fee for, acceptance of support, warranty, indemnity,\n",
            "      or other liability obligations and/or rights consistent with this\n",
            "      License. However, in accepting such obligations, You may act only\n",
            "      on Your own behalf and on Your sole responsibility, not on behalf\n",
            "      of any other Contributor, and only if You agree to indemnify,\n",
            "      defend, and hold each Contributor harmless for any liability\n",
            "      incurred by, or claims asserted against, such Contributor by reason\n",
            "      of your accepting any such warranty or additional liability.\n",
            "\n",
            "   END OF TERMS AND CONDITIONS\n",
            "\n",
            "   APPENDIX: How to apply the Apache License to your work.\n",
            "\n",
            "      To apply the Apache License to your work, attach the following\n",
            "      boilerplate notice, with the fields enclosed by brackets \"[]\"\n",
            "      replaced with your own identifying information. (Don't include\n",
            "      the brackets!)  The text should be enclosed in the appropriate\n",
            "      comment syntax for the file format. We also recommend that a\n",
            "      file or class name and description of purpose be included on the\n",
            "      same \"printed page\" as the copyright notice for easier\n",
            "      identification within third-party archives.\n",
            "\n",
            "   Copyright [2019] [Division of Medical Image Computing, German Cancer Research Center (DKFZ), Heidelberg, Germany]\n",
            "\n",
            "   Licensed under the Apache License, Version 2.0 (the \"License\");\n",
            "   you may not use this file except in compliance with the License.\n",
            "   You may obtain a copy of the License at\n",
            "\n",
            "       http://www.apache.org/licenses/LICENSE-2.0\n",
            "\n",
            "   Unless required by applicable law or agreed to in writing, software\n",
            "   distributed under the License is distributed on an \"AS IS\" BASIS,\n",
            "   WITHOUT WARRANTIES OR CONDITIONS OF ANY KIND, either express or implied.\n",
            "   See the License for the specific language governing permissions and\n",
            "   limitations under the License.\n",
            "Location: /usr/local/lib/python3.11/dist-packages\n",
            "Editable project location: /content/nnUNet\n",
            "Requires: acvl-utils, batchgenerators, batchgeneratorsv2, blosc2, dicom2nifti, dynamic-network-architectures, einops, graphviz, imagecodecs, matplotlib, nibabel, numpy, pandas, requests, scikit-image, scikit-learn, scipy, seaborn, SimpleITK, tifffile, torch, tqdm, yacs\n",
            "Required-by: \n"
          ]
        }
      ]
    },
    {
      "cell_type": "code",
      "source": [
        "import importlib.metadata\n",
        "\n",
        "version_str = importlib.metadata.version(\"nnunetv2\")\n",
        "print(\"nnunetv2 version:\", version_str)\n"
      ],
      "metadata": {
        "colab": {
          "base_uri": "https://localhost:8080/"
        },
        "id": "Y5thn-K32-9d",
        "outputId": "434bb308-9c7e-4029-f608-453a9b4bb785"
      },
      "execution_count": null,
      "outputs": [
        {
          "output_type": "stream",
          "name": "stdout",
          "text": [
            "nnunetv2 version: 2.6.0\n"
          ]
        }
      ]
    },
    {
      "cell_type": "code",
      "source": [
        "import os\n",
        "\n",
        "os.environ['nnUNet_raw'] = \"/content/nnUNet_raw\"\n",
        "os.environ['nnUNet_preprocessed'] = \"/content/nnUNet_preprocessed\"\n",
        "os.environ['nnUNet_results'] = \"/content/nnUNet_results\"\n"
      ],
      "metadata": {
        "id": "eZZK36Ny3Odq"
      },
      "execution_count": 2,
      "outputs": []
    },
    {
      "cell_type": "code",
      "source": [
        "from google.colab import drive\n",
        "drive.mount('/content/drive')"
      ],
      "metadata": {
        "colab": {
          "base_uri": "https://localhost:8080/"
        },
        "id": "5p20CuJi7lzG",
        "outputId": "13f4001c-68b4-4b3d-b3b8-da43a23e02d3"
      },
      "execution_count": null,
      "outputs": [
        {
          "output_type": "stream",
          "name": "stdout",
          "text": [
            "Drive already mounted at /content/drive; to attempt to forcibly remount, call drive.mount(\"/content/drive\", force_remount=True).\n"
          ]
        }
      ]
    },
    {
      "cell_type": "code",
      "source": [
        "!mkdir -p /content/nnUNet_raw/Task999_BraTSPED/imagesTr\n",
        "!mkdir -p /content/nnUNet_raw/Task999_BraTSPED/labelsTr\n"
      ],
      "metadata": {
        "id": "NDCp3pkX7GNv"
      },
      "execution_count": null,
      "outputs": []
    },
    {
      "cell_type": "code",
      "source": [
        "data_dir = \"/content/drive/MyDrive/BraTS-PEDs2024_Training_small_set\"\n"
      ],
      "metadata": {
        "id": "AMFJw-oG7wMk"
      },
      "execution_count": null,
      "outputs": []
    },
    {
      "cell_type": "code",
      "source": [
        "import os\n",
        "import shutil\n",
        "\n",
        "# 1) 原始数据根目录：里面有多个子文件夹，如 BraTS-PED-00001-000, BraTS-PED-00002-000, ...\n",
        "source_root = \"/content/drive/MyDrive/BraTS-PEDs2024_Training_small_set\"\n",
        "\n",
        "# 2) nnU-Net 目标目录 (Task999_BraTSPED 仅作示例)\n",
        "task_dir = \"/content/nnUNet_raw/Task999_BraTSPED\"\n",
        "imagesTr = os.path.join(task_dir, \"imagesTr\")\n",
        "labelsTr = os.path.join(task_dir, \"labelsTr\")\n",
        "\n",
        "os.makedirs(imagesTr, exist_ok=True)\n",
        "os.makedirs(labelsTr, exist_ok=True)\n",
        "\n",
        "modal_map = {\n",
        "    \"-t1c.nii.gz\": \"_0000.nii.gz\",\n",
        "    \"-t1n.nii.gz\": \"_0001.nii.gz\",\n",
        "    \"-t2f.nii.gz\": \"_0002.nii.gz\",\n",
        "    \"-t2w.nii.gz\": \"_0003.nii.gz\",\n",
        "}\n",
        "\n",
        "for case_folder in os.listdir(source_root):\n",
        "    case_path = os.path.join(source_root, case_folder)\n",
        "    if not os.path.isdir(case_path): continue\n",
        "    for file in os.listdir(case_path):\n",
        "        fpath = os.path.join(case_path, file)\n",
        "        if file.endswith(\"-seg.nii.gz\"):\n",
        "            target = os.path.join(labelsTr, case_folder + \".nii.gz\")\n",
        "            shutil.copyfile(fpath, target)\n",
        "        else:\n",
        "            for suffix, nnUNet_suffix in modal_map.items():\n",
        "                if file.endswith(suffix):\n",
        "                    target = os.path.join(imagesTr, case_folder + nnUNet_suffix)\n",
        "                    shutil.copyfile(fpath, target)\n"
      ],
      "metadata": {
        "id": "4Wz9hua475RQ"
      },
      "execution_count": null,
      "outputs": []
    },
    {
      "cell_type": "code",
      "source": [
        "!pip install -q git+https://github.com/MIC-DKFZ/nnUNet.git@v2.2.1\n"
      ],
      "metadata": {
        "colab": {
          "base_uri": "https://localhost:8080/"
        },
        "id": "HnQZtDh-CcX0",
        "outputId": "f8bcebdc-6f50-44e3-b038-667454ef1240"
      },
      "execution_count": 3,
      "outputs": [
        {
          "output_type": "stream",
          "name": "stdout",
          "text": [
            "  Installing build dependencies ... \u001b[?25l\u001b[?25hdone\n",
            "  Getting requirements to build wheel ... \u001b[?25l\u001b[?25hdone\n",
            "  Preparing metadata (pyproject.toml) ... \u001b[?25l\u001b[?25hdone\n"
          ]
        }
      ]
    },
    {
      "cell_type": "code",
      "source": [
        "from nnunetv2.dataset_conversion.generate_dataset_json import generate_dataset_json\n",
        "\n",
        "# 定义路径（请确认你已经准备好 imagesTr 和 labelsTr）\n",
        "output_folder = \"/content/nnUNet_raw/Task999_BraTSPED\"\n",
        "\n",
        "generate_dataset_json(\n",
        "    output_folder=output_folder,\n",
        "    channel_names={\n",
        "        0: \"T1CE\",\n",
        "        1: \"T1N\",\n",
        "        2: \"T2F\",\n",
        "        3: \"T2W\"\n",
        "    },\n",
        "    labels={\n",
        "        \"background\": 0,\n",
        "        \"ET\": 1,\n",
        "        \"NET\": 2,\n",
        "        \"CC\": 3,\n",
        "        \"ED\": 4\n",
        "    },\n",
        "    num_training_cases=len(os.listdir(f\"{output_folder}/imagesTr\")),  # 自动统计 case 数\n",
        "    file_ending=\".nii.gz\",\n",
        "    dataset_name=\"BraTSPED\",\n",
        "    description=\"Pediatric brain tumor segmentation with 4 MRI modalities.\",\n",
        "    license=\"CC-BY-SA 4.0\",\n",
        "    converted_by=\"Your Name\"\n",
        ")\n"
      ],
      "metadata": {
        "id": "jn9JuyVg_TiR"
      },
      "execution_count": null,
      "outputs": []
    },
    {
      "cell_type": "code",
      "source": [
        "!ls /content/nnUNet_raw\n"
      ],
      "metadata": {
        "colab": {
          "base_uri": "https://localhost:8080/"
        },
        "id": "wR42BhByDfUH",
        "outputId": "e5d92ebe-92ba-4e41-ed67-0a053eb2a4a2"
      },
      "execution_count": null,
      "outputs": [
        {
          "output_type": "stream",
          "name": "stdout",
          "text": [
            "Task999_BraTSPED\n"
          ]
        }
      ]
    },
    {
      "cell_type": "code",
      "source": [
        "import json\n",
        "\n",
        "json_path = \"/content/nnUNet_raw/Dataset999_BraTSPED/dataset.json\"\n",
        "\n",
        "with open(json_path, 'r') as f:\n",
        "    data = json.load(f)\n",
        "\n",
        "data[\"numTraining\"] = 155  # 改为实际数量\n",
        "\n",
        "with open(json_path, 'w') as f:\n",
        "    json.dump(data, f, indent=4)\n",
        "\n",
        "print(\"已更新 numTraining = 155\")\n"
      ],
      "metadata": {
        "colab": {
          "base_uri": "https://localhost:8080/"
        },
        "id": "n5Ix4AooFxWl",
        "outputId": "a26ceeb5-74a7-46f0-dc9c-7034b4e4c5ed"
      },
      "execution_count": null,
      "outputs": [
        {
          "output_type": "stream",
          "name": "stdout",
          "text": [
            "已更新 numTraining = 155\n"
          ]
        }
      ]
    },
    {
      "cell_type": "code",
      "source": [
        "!mv /content/nnUNet_raw/Task999_BraTSPED /content/nnUNet_raw/Dataset999_BraTSPED\n",
        "\n"
      ],
      "metadata": {
        "id": "lZjmje4qE2rr"
      },
      "execution_count": null,
      "outputs": []
    },
    {
      "cell_type": "code",
      "source": [
        "!nnUNetv2_plan_and_preprocess -d 999 --verify_dataset_integrity\n"
      ],
      "metadata": {
        "colab": {
          "base_uri": "https://localhost:8080/"
        },
        "id": "FixYxIEDEBEQ",
        "outputId": "6e619191-24ef-4a9b-ea4f-067298d46fb8"
      },
      "execution_count": null,
      "outputs": [
        {
          "output_type": "stream",
          "name": "stdout",
          "text": [
            "Fingerprint extraction...\n",
            "Dataset999_BraTSPED\n",
            "Using <class 'nnunetv2.imageio.simpleitk_reader_writer.SimpleITKIO'> as reader/writer\n",
            "\n",
            "####################\n",
            "verify_dataset_integrity Done. \n",
            "If you didn't see any error messages then your dataset is most likely OK!\n",
            "####################\n",
            "\n",
            "Using <class 'nnunetv2.imageio.simpleitk_reader_writer.SimpleITKIO'> as reader/writer\n",
            "100% 155/155 [00:51<00:00,  3.03it/s]\n",
            "Experiment planning...\n",
            "2D U-Net configuration:\n",
            "{'data_identifier': 'nnUNetPlans_2d', 'preprocessor_name': 'DefaultPreprocessor', 'batch_size': 49, 'patch_size': array([256, 256]), 'median_image_size_in_voxels': array([240., 227.]), 'spacing': array([1., 1.]), 'normalization_schemes': ['ZScoreNormalization', 'ZScoreNormalization', 'ZScoreNormalization', 'ZScoreNormalization'], 'use_mask_for_norm': [False, False, False, False], 'UNet_class_name': 'PlainConvUNet', 'UNet_base_num_features': 32, 'n_conv_per_stage_encoder': (2, 2, 2, 2, 2, 2, 2), 'n_conv_per_stage_decoder': (2, 2, 2, 2, 2, 2), 'num_pool_per_axis': [6, 6], 'pool_op_kernel_sizes': [[1, 1], [2, 2], [2, 2], [2, 2], [2, 2], [2, 2], [2, 2]], 'conv_kernel_sizes': [[3, 3], [3, 3], [3, 3], [3, 3], [3, 3], [3, 3], [3, 3]], 'unet_max_num_features': 512, 'resampling_fn_data': 'resample_data_or_seg_to_shape', 'resampling_fn_seg': 'resample_data_or_seg_to_shape', 'resampling_fn_data_kwargs': {'is_seg': False, 'order': 3, 'order_z': 0, 'force_separate_z': None}, 'resampling_fn_seg_kwargs': {'is_seg': True, 'order': 1, 'order_z': 0, 'force_separate_z': None}, 'resampling_fn_probabilities': 'resample_data_or_seg_to_shape', 'resampling_fn_probabilities_kwargs': {'is_seg': False, 'order': 1, 'order_z': 0, 'force_separate_z': None}, 'batch_dice': True}\n",
            "\n",
            "Using <class 'nnunetv2.imageio.simpleitk_reader_writer.SimpleITKIO'> as reader/writer\n",
            "3D fullres U-Net configuration:\n",
            "{'data_identifier': 'nnUNetPlans_3d_fullres', 'preprocessor_name': 'DefaultPreprocessor', 'batch_size': 2, 'patch_size': array([ 96, 160, 160]), 'median_image_size_in_voxels': array([155., 240., 227.]), 'spacing': array([1., 1., 1.]), 'normalization_schemes': ['ZScoreNormalization', 'ZScoreNormalization', 'ZScoreNormalization', 'ZScoreNormalization'], 'use_mask_for_norm': [False, False, False, False], 'UNet_class_name': 'PlainConvUNet', 'UNet_base_num_features': 32, 'n_conv_per_stage_encoder': (2, 2, 2, 2, 2, 2), 'n_conv_per_stage_decoder': (2, 2, 2, 2, 2), 'num_pool_per_axis': [4, 5, 5], 'pool_op_kernel_sizes': [[1, 1, 1], [2, 2, 2], [2, 2, 2], [2, 2, 2], [2, 2, 2], [1, 2, 2]], 'conv_kernel_sizes': [[3, 3, 3], [3, 3, 3], [3, 3, 3], [3, 3, 3], [3, 3, 3], [3, 3, 3]], 'unet_max_num_features': 320, 'resampling_fn_data': 'resample_data_or_seg_to_shape', 'resampling_fn_seg': 'resample_data_or_seg_to_shape', 'resampling_fn_data_kwargs': {'is_seg': False, 'order': 3, 'order_z': 0, 'force_separate_z': None}, 'resampling_fn_seg_kwargs': {'is_seg': True, 'order': 1, 'order_z': 0, 'force_separate_z': None}, 'resampling_fn_probabilities': 'resample_data_or_seg_to_shape', 'resampling_fn_probabilities_kwargs': {'is_seg': False, 'order': 1, 'order_z': 0, 'force_separate_z': None}, 'batch_dice': False}\n",
            "\n",
            "Plans were saved to /content/nnUNet_preprocessed/Dataset999_BraTSPED/nnUNetPlans.json\n",
            "Preprocessing...\n",
            "Preprocessing dataset Dataset999_BraTSPED\n",
            "Configuration: 2d...\n",
            "100% 155/155 [03:14<00:00,  1.25s/it]\n",
            "Configuration: 3d_fullres...\n",
            "100% 155/155 [05:19<00:00,  2.06s/it]\n",
            "Configuration: 3d_lowres...\n",
            "INFO: Configuration 3d_lowres not found in plans file nnUNetPlans.json of dataset Dataset999_BraTSPED. Skipping.\n"
          ]
        }
      ]
    },
    {
      "cell_type": "code",
      "source": [
        "!pip install hiddenlayer\n"
      ],
      "metadata": {
        "colab": {
          "base_uri": "https://localhost:8080/"
        },
        "id": "b0KzDt5PGl2R",
        "outputId": "e76374a7-79d2-4683-f5f6-9140f66dbd5b"
      },
      "execution_count": null,
      "outputs": [
        {
          "output_type": "stream",
          "name": "stdout",
          "text": [
            "Collecting hiddenlayer\n",
            "  Downloading hiddenlayer-0.3-py3-none-any.whl.metadata (703 bytes)\n",
            "Downloading hiddenlayer-0.3-py3-none-any.whl (19 kB)\n",
            "Installing collected packages: hiddenlayer\n",
            "Successfully installed hiddenlayer-0.3\n"
          ]
        }
      ]
    },
    {
      "cell_type": "code",
      "source": [
        "for i in range(5):  # 遍历 0 到 4 的所有折\n",
        "    !nnUNetv2_train Dataset999_BraTSPED 3d_fullres {i}\n"
      ],
      "metadata": {
        "colab": {
          "base_uri": "https://localhost:8080/"
        },
        "id": "fDo3GWcEGOdH",
        "outputId": "91d81940-7540-4329-d2c3-1aa9b6ac98b1"
      },
      "execution_count": null,
      "outputs": [
        {
          "output_type": "stream",
          "name": "stdout",
          "text": [
            "Using device: cuda:0\n",
            "/usr/local/lib/python3.11/dist-packages/nnunetv2/training/nnUNetTrainer/nnUNetTrainer.py:158: FutureWarning: `torch.cuda.amp.GradScaler(args...)` is deprecated. Please use `torch.amp.GradScaler('cuda', args...)` instead.\n",
            "  self.grad_scaler = GradScaler() if self.device.type == 'cuda' else None\n",
            "\n",
            "#######################################################################\n",
            "Please cite the following paper when using nnU-Net:\n",
            "Isensee, F., Jaeger, P. F., Kohl, S. A., Petersen, J., & Maier-Hein, K. H. (2021). nnU-Net: a self-configuring method for deep learning-based biomedical image segmentation. Nature methods, 18(2), 203-211.\n",
            "#######################################################################\n",
            "\n",
            "/usr/local/lib/python3.11/dist-packages/torch/optim/lr_scheduler.py:62: UserWarning: The verbose parameter is deprecated. Please use get_last_lr() to access the learning rate.\n",
            "  warnings.warn(\n",
            "\n",
            "This is the configuration used by this training:\n",
            "Configuration name: 3d_fullres\n",
            " {'data_identifier': 'nnUNetPlans_3d_fullres', 'preprocessor_name': 'DefaultPreprocessor', 'batch_size': 2, 'patch_size': [96, 160, 160], 'median_image_size_in_voxels': [155.0, 240.0, 227.0], 'spacing': [1.0, 1.0, 1.0], 'normalization_schemes': ['ZScoreNormalization', 'ZScoreNormalization', 'ZScoreNormalization', 'ZScoreNormalization'], 'use_mask_for_norm': [False, False, False, False], 'UNet_class_name': 'PlainConvUNet', 'UNet_base_num_features': 32, 'n_conv_per_stage_encoder': [2, 2, 2, 2, 2, 2], 'n_conv_per_stage_decoder': [2, 2, 2, 2, 2], 'num_pool_per_axis': [4, 5, 5], 'pool_op_kernel_sizes': [[1, 1, 1], [2, 2, 2], [2, 2, 2], [2, 2, 2], [2, 2, 2], [1, 2, 2]], 'conv_kernel_sizes': [[3, 3, 3], [3, 3, 3], [3, 3, 3], [3, 3, 3], [3, 3, 3], [3, 3, 3]], 'unet_max_num_features': 320, 'resampling_fn_data': 'resample_data_or_seg_to_shape', 'resampling_fn_seg': 'resample_data_or_seg_to_shape', 'resampling_fn_data_kwargs': {'is_seg': False, 'order': 3, 'order_z': 0, 'force_separate_z': None}, 'resampling_fn_seg_kwargs': {'is_seg': True, 'order': 1, 'order_z': 0, 'force_separate_z': None}, 'resampling_fn_probabilities': 'resample_data_or_seg_to_shape', 'resampling_fn_probabilities_kwargs': {'is_seg': False, 'order': 1, 'order_z': 0, 'force_separate_z': None}, 'batch_dice': False} \n",
            "\n",
            "These are the global plan.json settings:\n",
            " {'dataset_name': 'Dataset999_BraTSPED', 'plans_name': 'nnUNetPlans', 'original_median_spacing_after_transp': [1.0, 1.0, 1.0], 'original_median_shape_after_transp': [155, 240, 227], 'image_reader_writer': 'SimpleITKIO', 'transpose_forward': [0, 1, 2], 'transpose_backward': [0, 1, 2], 'experiment_planner_used': 'ExperimentPlanner', 'label_manager': 'LabelManager', 'foreground_intensity_properties_per_channel': {'0': {'max': 14559.1748046875, 'mean': 618.61865234375, 'median': 343.7622375488281, 'min': 0.0, 'percentile_00_5': 43.208961486816406, 'percentile_99_5': 5164.14599609375, 'std': 809.5697631835938}, '1': {'max': 4893.2041015625, 'mean': 637.91943359375, 'median': 360.57269287109375, 'min': 0.0, 'percentile_00_5': 69.79559326171875, 'percentile_99_5': 2974.46435546875, 'std': 655.6436157226562}, '2': {'max': 24291.5, 'mean': 733.4916381835938, 'median': 484.1143798828125, 'min': 0.0, 'percentile_00_5': 66.02536010742188, 'percentile_99_5': 17008.255859375, 'std': 1532.6016845703125}, '3': {'max': 11606.9990234375, 'mean': 915.720947265625, 'median': 758.2918701171875, 'min': 0.0, 'percentile_00_5': 68.66036224365234, 'percentile_99_5': 4364.53955078125, 'std': 683.7692260742188}}} \n",
            "\n",
            "2025-03-26 01:54:07.358588: unpacking dataset...\n",
            "2025-03-26 01:54:13.083773: unpacking done...\n",
            "2025-03-26 01:54:13.084502: do_dummy_2d_data_aug: False\n",
            "2025-03-26 01:54:13.085685: Using splits from existing split file: /content/nnUNet_preprocessed/Dataset999_BraTSPED/splits_final.json\n",
            "2025-03-26 01:54:13.085972: The split file contains 5 splits.\n",
            "2025-03-26 01:54:13.086042: Desired fold for training: 0\n",
            "2025-03-26 01:54:13.086090: This split has 124 training and 31 validation cases.\n",
            "2025-03-26 01:54:14.335042: Unable to plot network architecture:\n",
            "2025-03-26 01:54:14.335514: module 'torch.onnx' has no attribute '_optimize_trace'\n",
            "2025-03-26 01:54:14.345889: \n",
            "2025-03-26 01:54:14.345989: Epoch 0\n",
            "2025-03-26 01:54:14.346117: Current learning rate: 0.01\n",
            "using pin_memory on device 0\n",
            "using pin_memory on device 0\n",
            "2025-03-26 01:58:24.718299: train_loss 0.0451\n",
            "2025-03-26 01:58:24.718868: val_loss -0.0362\n",
            "2025-03-26 01:58:24.719050: Pseudo dice [np.float32(0.0), np.float32(0.548), np.float32(0.0), np.float32(0.0)]\n",
            "2025-03-26 01:58:24.719343: Epoch time: 250.37 s\n",
            "2025-03-26 01:58:24.719492: Yayy! New best EMA pseudo Dice: 0.13699999451637268\n",
            "2025-03-26 01:58:27.904491: \n",
            "2025-03-26 01:58:27.904761: Epoch 1\n",
            "2025-03-26 01:58:27.904956: Current learning rate: 0.00999\n",
            "2025-03-26 02:02:45.871079: train_loss -0.065\n",
            "2025-03-26 02:02:45.871432: val_loss -0.0475\n",
            "2025-03-26 02:02:45.871626: Pseudo dice [np.float32(0.0), np.float32(0.5433), np.float32(0.0), np.float32(0.0)]\n",
            "2025-03-26 02:02:45.871775: Epoch time: 257.97 s\n",
            "2025-03-26 02:02:48.122581: \n",
            "2025-03-26 02:02:48.122842: Epoch 2\n",
            "2025-03-26 02:02:48.123015: Current learning rate: 0.00998\n",
            "2025-03-26 02:06:55.350418: train_loss -0.0881\n",
            "2025-03-26 02:06:55.365356: val_loss -0.0617\n",
            "2025-03-26 02:06:55.365643: Pseudo dice [np.float32(0.0758), np.float32(0.5826), np.float32(0.0), np.float32(0.0)]\n",
            "2025-03-26 02:06:55.365800: Epoch time: 247.23 s\n",
            "2025-03-26 02:06:55.365911: Yayy! New best EMA pseudo Dice: 0.1396999955177307\n",
            "2025-03-26 02:06:58.794299: \n",
            "2025-03-26 02:06:58.794630: Epoch 3\n",
            "2025-03-26 02:06:58.794794: Current learning rate: 0.00997\n",
            "2025-03-26 02:11:03.990554: train_loss -0.1269\n",
            "2025-03-26 02:11:03.994331: val_loss -0.0949\n",
            "2025-03-26 02:11:03.994574: Pseudo dice [np.float32(0.4791), np.float32(0.5531), np.float32(0.0), np.float32(0.0)]\n",
            "2025-03-26 02:11:03.994709: Epoch time: 245.2 s\n",
            "2025-03-26 02:11:03.994826: Yayy! New best EMA pseudo Dice: 0.15150000154972076\n",
            "2025-03-26 02:11:08.198136: \n",
            "2025-03-26 02:11:08.198452: Epoch 4\n",
            "2025-03-26 02:11:08.198685: Current learning rate: 0.00996\n",
            "2025-03-26 02:15:16.724914: train_loss -0.1366\n",
            "2025-03-26 02:15:16.725246: val_loss -0.1438\n",
            "2025-03-26 02:15:16.725413: Pseudo dice [np.float32(0.5732), np.float32(0.5727), np.float32(0.0), np.float32(0.0)]\n",
            "2025-03-26 02:15:16.725558: Epoch time: 248.53 s\n",
            "2025-03-26 02:15:16.725685: Yayy! New best EMA pseudo Dice: 0.16500000655651093\n",
            "2025-03-26 02:15:20.197886: \n",
            "2025-03-26 02:15:20.198117: Epoch 5\n",
            "2025-03-26 02:15:20.198303: Current learning rate: 0.00995\n",
            "2025-03-26 02:19:45.270762: train_loss -0.1546\n",
            "2025-03-26 02:19:45.283441: val_loss -0.1376\n",
            "2025-03-26 02:19:45.283800: Pseudo dice [np.float32(0.6429), np.float32(0.5457), np.float32(0.0), np.float32(0.0)]\n",
            "2025-03-26 02:19:45.283948: Epoch time: 265.07 s\n",
            "2025-03-26 02:19:45.284055: Yayy! New best EMA pseudo Dice: 0.17820000648498535\n",
            "2025-03-26 02:19:48.842061: \n",
            "2025-03-26 02:19:48.842288: Epoch 6\n",
            "2025-03-26 02:19:48.842450: Current learning rate: 0.00995\n",
            "2025-03-26 02:24:06.504053: train_loss -0.1507\n",
            "2025-03-26 02:24:06.504376: val_loss -0.1414\n",
            "2025-03-26 02:24:06.504534: Pseudo dice [np.float32(0.5819), np.float32(0.5757), np.float32(0.0), np.float32(0.0)]\n",
            "2025-03-26 02:24:06.504675: Epoch time: 257.66 s\n",
            "2025-03-26 02:24:06.504791: Yayy! New best EMA pseudo Dice: 0.18930000066757202\n",
            "2025-03-26 02:24:10.616808: \n",
            "2025-03-26 02:24:10.617055: Epoch 7\n",
            "2025-03-26 02:24:10.617206: Current learning rate: 0.00994\n",
            "2025-03-26 02:28:16.648185: train_loss -0.1529\n",
            "2025-03-26 02:28:16.648526: val_loss -0.1311\n",
            "2025-03-26 02:28:16.648687: Pseudo dice [np.float32(0.6512), np.float32(0.5103), np.float32(0.0), np.float32(0.0)]\n",
            "2025-03-26 02:28:16.648831: Epoch time: 246.03 s\n",
            "2025-03-26 02:28:16.648938: Yayy! New best EMA pseudo Dice: 0.19939999282360077\n",
            "2025-03-26 02:28:20.052398: \n",
            "2025-03-26 02:28:20.052680: Epoch 8\n",
            "2025-03-26 02:28:20.052943: Current learning rate: 0.00993\n",
            "2025-03-26 02:32:29.772723: train_loss -0.1716\n",
            "2025-03-26 02:32:29.773055: val_loss -0.1374\n",
            "2025-03-26 02:32:29.773234: Pseudo dice [np.float32(0.5867), np.float32(0.5252), np.float32(0.0), np.float32(0.0)]\n",
            "2025-03-26 02:32:29.773383: Epoch time: 249.72 s\n",
            "2025-03-26 02:32:29.773480: Yayy! New best EMA pseudo Dice: 0.20730000734329224\n",
            "2025-03-26 02:32:33.446938: \n",
            "2025-03-26 02:32:33.447208: Epoch 9\n",
            "2025-03-26 02:32:33.447460: Current learning rate: 0.00992\n",
            "2025-03-26 02:36:26.985985: train_loss -0.1724\n",
            "2025-03-26 02:36:26.986374: val_loss -0.1622\n",
            "2025-03-26 02:36:26.986563: Pseudo dice [np.float32(0.6592), np.float32(0.5375), np.float32(0.0), np.float32(0.0)]\n",
            "2025-03-26 02:36:26.986690: Epoch time: 233.54 s\n",
            "2025-03-26 02:36:26.986810: Yayy! New best EMA pseudo Dice: 0.21649999916553497\n",
            "2025-03-26 02:36:30.549147: \n",
            "2025-03-26 02:36:30.550715: Epoch 10\n",
            "2025-03-26 02:36:30.550891: Current learning rate: 0.00991\n",
            "2025-03-26 02:40:54.655588: train_loss -0.1774\n",
            "2025-03-26 02:40:54.655901: val_loss -0.1681\n",
            "2025-03-26 02:40:54.656057: Pseudo dice [np.float32(0.651), np.float32(0.6069), np.float32(0.0), np.float32(0.0043)]\n",
            "2025-03-26 02:40:54.656190: Epoch time: 264.11 s\n",
            "2025-03-26 02:40:54.656360: Yayy! New best EMA pseudo Dice: 0.2264000028371811\n",
            "2025-03-26 02:40:59.077021: \n",
            "2025-03-26 02:40:59.077284: Epoch 11\n",
            "2025-03-26 02:40:59.077446: Current learning rate: 0.0099\n",
            "2025-03-26 02:45:06.542656: train_loss -0.2007\n",
            "2025-03-26 02:45:06.551365: val_loss -0.172\n",
            "2025-03-26 02:45:06.551650: Pseudo dice [np.float32(0.7386), np.float32(0.5133), np.float32(0.0), np.float32(0.015)]\n",
            "2025-03-26 02:45:06.551830: Epoch time: 247.47 s\n",
            "2025-03-26 02:45:06.551963: Yayy! New best EMA pseudo Dice: 0.2354000061750412\n",
            "2025-03-26 02:45:11.615564: \n",
            "2025-03-26 02:45:11.615771: Epoch 12\n",
            "2025-03-26 02:45:11.615935: Current learning rate: 0.00989\n",
            "2025-03-26 02:49:15.982307: train_loss -0.1955\n",
            "2025-03-26 02:49:15.982621: val_loss -0.1665\n",
            "2025-03-26 02:49:15.982788: Pseudo dice [np.float32(0.6945), np.float32(0.5852), np.float32(0.0083), np.float32(0.1738)]\n",
            "2025-03-26 02:49:15.982926: Epoch time: 244.37 s\n",
            "2025-03-26 02:49:15.983028: Yayy! New best EMA pseudo Dice: 0.2484000027179718\n",
            "2025-03-26 02:49:19.614865: \n",
            "2025-03-26 02:49:19.615084: Epoch 13\n",
            "2025-03-26 02:49:19.615249: Current learning rate: 0.00988\n",
            "2025-03-26 02:53:36.108913: train_loss -0.1908\n",
            "2025-03-26 02:53:36.109350: val_loss -0.2076\n",
            "2025-03-26 02:53:36.109659: Pseudo dice [np.float32(0.7139), np.float32(0.5805), np.float32(0.0133), np.float32(0.0774)]\n",
            "2025-03-26 02:53:36.109910: Epoch time: 256.5 s\n",
            "2025-03-26 02:53:36.110079: Yayy! New best EMA pseudo Dice: 0.2581999897956848\n",
            "2025-03-26 02:53:39.546134: \n",
            "2025-03-26 02:53:39.546367: Epoch 14\n",
            "2025-03-26 02:53:39.546509: Current learning rate: 0.00987\n",
            "2025-03-26 02:58:15.598999: train_loss -0.206\n",
            "2025-03-26 02:58:15.599399: val_loss -0.176\n",
            "2025-03-26 02:58:15.599593: Pseudo dice [np.float32(0.5908), np.float32(0.547), np.float32(0.1268), np.float32(0.3576)]\n",
            "2025-03-26 02:58:15.599774: Epoch time: 276.05 s\n",
            "2025-03-26 02:58:15.599916: Yayy! New best EMA pseudo Dice: 0.2728999853134155\n",
            "2025-03-26 02:58:18.902452: \n",
            "2025-03-26 02:58:18.902661: Epoch 15\n",
            "2025-03-26 02:58:18.902824: Current learning rate: 0.00986\n"
          ]
        }
      ]
    }
  ]
}